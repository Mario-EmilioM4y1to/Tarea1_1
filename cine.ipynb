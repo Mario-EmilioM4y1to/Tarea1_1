{
 "cells": [
  {
   "cell_type": "code",
   "execution_count": 1,
   "metadata": {},
   "outputs": [],
   "source": [
    "\n",
    "class Persona:\n",
    "    lista = []\n",
    "\n",
    "    def __init__(self, nombre, correo):\n",
    "        self.nombre = nombre\n",
    "        self.correo = correo\n",
    "\n",
    "    def registrar(self):\n",
    "        Persona.lista.append(self)\n",
    "        print(f\"La persona {self.nombre} ha sido registrada con el correo {self.correo}\")\n",
    "\n",
    "    def actualizar_datos(self, nombre, correo):\n",
    "        self.nombre = nombre\n",
    "        self.correo = correo\n",
    "        print(f\"Datos actualizados\")\n",
    "\n",
    "    @classmethod\n",
    "    def personas_registradas(cls):\n",
    "        print(\"Personas registradas:\")\n",
    "        for persona in cls.lista:\n",
    "            print(f\"Nombre - {persona.nombre} - Correo: {persona.correo}\")\n",
    "\n"
   ]
  },
  {
   "cell_type": "code",
   "execution_count": 2,
   "metadata": {},
   "outputs": [],
   "source": [
    "\n",
    "class Usuario(Persona):\n",
    "    def __init__(self, nombre, correo):\n",
    "        super().__init__(nombre, correo)\n",
    "        self.reservas = []\n",
    "\n",
    "    def Hacer_reserva(self, reserva):\n",
    "        self.reservas.append(reserva)\n",
    "        print(f\"Se acaba de realizar exitosamente la reserva para {self.nombre}\")\n",
    "\n",
    "    def cancelar_reserva(self, reserva):\n",
    "        if reserva in self.reservas:\n",
    "            self.reservas.remove(reserva)\n",
    "            print(f\"Reserva cancelada para {self.nombre}\")\n",
    "        else:\n",
    "            print(f\"No se encontró reserva\")\n"
   ]
  },
  {
   "cell_type": "code",
   "execution_count": 3,
   "metadata": {},
   "outputs": [],
   "source": [
    "\n",
    "class Empleado(Persona):\n",
    "    def __init__(self, nombre, correo, rol):\n",
    "        super().__init__(nombre, correo)\n",
    "        self.rol = rol\n",
    "\n",
    "    def agregar_funcion(self, funcion):\n",
    "        print(f\"El empleado {self.nombre} ha agregado la función {funcion.pelicula.titulo} a las {funcion.hora}\")\n",
    "\n",
    "    def agregar_pelicula(self, pelicula):\n",
    "        print(f\"La película {pelicula.titulo} ha sido agregada\")\n",
    "\n",
    "    def agregar_promo(self, promocion):\n",
    "        print(f\"Promoción agregada: {promocion.descripcion} con {promocion.descuento}% de descuento\")\n"
   ]
  },
  {
   "cell_type": "code",
   "execution_count": 4,
   "metadata": {},
   "outputs": [],
   "source": [
    "class Espacio:\n",
    "    def __init__(self, tamaño, identificador):\n",
    "        self.tamaño = tamaño\n",
    "        self.identificador = identificador\n"
   ]
  },
  {
   "cell_type": "code",
   "execution_count": 5,
   "metadata": {},
   "outputs": [],
   "source": [
    "class Sala(Espacio):\n",
    "    def __init__(self, tamaño, identificador, tipo):\n",
    "        super().__init__(tamaño, identificador)\n",
    "        self.tipo = tipo\n",
    "        self.asientos_ocupados = set()\n",
    "\n",
    "    def reservar_asientos(self, asientos):\n",
    "        if any(a in self.asientos_ocupados for a in asientos):\n",
    "            print(f\"Algunos asientos ya están ocupados\")\n",
    "            return False\n",
    "        self.asientos_ocupados.update(asientos)\n",
    "        return True\n"
   ]
  },
  {
   "cell_type": "code",
   "execution_count": 6,
   "metadata": {},
   "outputs": [],
   "source": [
    "class ZonaDeComida(Espacio):\n",
    "    def __init__(self, tamaño, identificador):\n",
    "        super().__init__(tamaño, identificador)\n",
    "        self.productos = {}\n",
    "\n",
    "    def agregar_producto(self, producto, precio):\n",
    "        self.productos[producto] = precio\n",
    "\n",
    "    def mostrar_menu(self):\n",
    "        print(\"\\nMenú de la zona de comida:\")\n",
    "        for producto, precio in self.productos.items():\n",
    "            print(f\"{producto}: ${precio}\")\n"
   ]
  },
  {
   "cell_type": "code",
   "execution_count": 7,
   "metadata": {},
   "outputs": [],
   "source": [
    "class Reservar:\n",
    "    def __init__(self, usuario, funcion, asientos):\n",
    "        if funcion.sala.reservar_asientos(asientos):\n",
    "            self.usuario = usuario\n",
    "            self.funcion = funcion\n",
    "            self.asientos = asientos\n",
    "            usuario.Hacer_reserva(self)\n",
    "            print(f\"Reserva confirmada para {len(asientos)} asientos en {funcion.pelicula.titulo} a las {funcion.hora}\")\n",
    "        else:\n",
    "            print(f\"No se pudo completar la reserva, pruebe con otros asientos\")\n"
   ]
  },
  {
   "cell_type": "code",
   "execution_count": 8,
   "metadata": {},
   "outputs": [],
   "source": [
    "class Funcion:\n",
    "    def __init__(self, hora, sala, pelicula):\n",
    "        self.hora = hora\n",
    "        self.sala = sala\n",
    "        self.pelicula = pelicula\n"
   ]
  },
  {
   "cell_type": "code",
   "execution_count": 9,
   "metadata": {},
   "outputs": [],
   "source": [
    "class Pelicula:\n",
    "    def __init__(self, titulo, duracion, clasificacion, genero):\n",
    "        self.titulo = titulo\n",
    "        self.duracion = duracion\n",
    "        self.clasificacion = clasificacion\n",
    "        self.genero = genero\n",
    "\n"
   ]
  },
  {
   "cell_type": "code",
   "execution_count": 10,
   "metadata": {},
   "outputs": [],
   "source": [
    "class Promocion:\n",
    "    def __init__(self, descripcion, descuento):\n",
    "        self.descripcion = descripcion\n",
    "        self.descuento = descuento\n"
   ]
  },
  {
   "cell_type": "code",
   "execution_count": 11,
   "metadata": {},
   "outputs": [
    {
     "name": "stdout",
     "output_type": "stream",
     "text": [
      "El empleado Carlos ha agregado la función Interstellar a las 20:00\n",
      "La película Interstellar ha sido agregada\n",
      "Promoción agregada: Descuento 2x1 con 50% de descuento\n",
      "Se acaba de realizar exitosamente la reserva para Luis\n",
      "Reserva confirmada para 3 asientos en Interstellar a las 20:00\n",
      "Algunos asientos ya están ocupados\n",
      "No se pudo completar la reserva, pruebe con otros asientos\n",
      "\n",
      "Menú de la zona de comida:\n",
      "Palomitas: $35\n",
      "Nachos: $40\n",
      "Combo 2x1 pague 2 y se lleva 1: $70\n"
     ]
    }
   ],
   "source": [
    "usuario1 = Usuario(\"Luis\", \"luis@gmail.com\")\n",
    "usuario2 = Usuario(\"Ana\", \"ana@gmail.com\")\n",
    "empleado1 = Empleado(\"Carlos\", \"carlos@cine.com\", \"Administrador\")\n",
    "\n",
    "pelicula1 = Pelicula(\"Interstellar\", 169, \"R\", \"Ciencia Ficción\")\n",
    "pelicula2 = Pelicula(\"Duro de matar\", 170, \"S\",\"Ciencia Fccion\")\n",
    "pelicula3 = Pelicula(\"Transformers\", 190, \"S\", \"Ciencia Ficcion\" )\n",
    "\n",
    "sala1 = Sala(100, \"12345\", \"Grande\")\n",
    "sala2 = Sala(100, \"2345\", \"Grande\")\n",
    "Sala3 = Sala(50, \"3456\", \"mediana\")\n",
    "\n",
    "funcion1 = Funcion(\"20:00\", sala1, pelicula1)\n",
    "funcion2 = Funcion(\"15:50\", sala1, pelicula2)\n",
    "\n",
    "promo1 = Promocion(\"Descuento 2x1\", 50)\n",
    "promo2 = Promocion(\"Descuento parejas por un beso\", 50)\n",
    "promo3 = Promocion(\"Descuento si vas solo el 14 de febrero\",10)\n",
    "\n",
    "\n",
    "empleado1.agregar_funcion(funcion1)\n",
    "empleado1.agregar_pelicula(pelicula1)\n",
    "empleado1.agregar_promo(promo1)\n",
    "\n",
    "reserva1 = Reservar(usuario1, funcion1, [1, 2, 3])\n",
    "reserva2 = Reservar(usuario2, funcion2, [1, 2, 3])\n",
    "\n",
    "zona_comida = ZonaDeComida(50, \"98765\")\n",
    "zona_comida.agregar_producto(\"Palomitas\", 35)\n",
    "zona_comida.agregar_producto(\"Nachos\", 40)\n",
    "zona_comida.agregar_producto(\"Combo 2x1 pague 2 y se lleva 1\", 70)\n",
    "zona_comida.mostrar_menu()"
   ]
  }
 ],
 "metadata": {
  "kernelspec": {
   "display_name": "Python 3",
   "language": "python",
   "name": "python3"
  },
  "language_info": {
   "codemirror_mode": {
    "name": "ipython",
    "version": 3
   },
   "file_extension": ".py",
   "mimetype": "text/x-python",
   "name": "python",
   "nbconvert_exporter": "python",
   "pygments_lexer": "ipython3",
   "version": "3.13.1"
  }
 },
 "nbformat": 4,
 "nbformat_minor": 2
}
