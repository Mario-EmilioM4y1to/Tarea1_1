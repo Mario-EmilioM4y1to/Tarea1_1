{
 "cells": [
  {
   "cell_type": "markdown",
   "metadata": {},
   "source": [
    "Gestion de Pedidos en una Cafeteria"
   ]
  },
  {
   "cell_type": "code",
   "execution_count": 1,
   "metadata": {},
   "outputs": [],
   "source": [
    "class Persona:\n",
    "    list = []\n",
    "\n",
    "    def __init__(self, nombre, contacto):\n",
    "        self.nom = nombre\n",
    "        self.cont = contacto\n",
    "\n",
    "    def Registrar(self):\n",
    "        Persona.list.append(self)\n",
    "        print(f\"Persona registrada: {self.nom} - {self.cont}\")\n",
    "\n",
    "    def actualizar_datos(self, nombre, contacto):\n",
    "        self.nom = nombre\n",
    "        self.cont = contacto\n",
    "        print(\"Los datos han sido actualizados.\")\n",
    "\n",
    "    @classmethod\n",
    "    def personas_registradas(cls):\n",
    "        print(\"Personas Registradas:\")\n",
    "        for persona in cls.list:\n",
    "            print(f\"Nombre: {persona.nom} - Contacto: {persona.cont}\")\n"
   ]
  },
  {
   "cell_type": "code",
   "execution_count": 3,
   "metadata": {},
   "outputs": [],
   "source": [
    "class Cliente(Persona):\n",
    "    def __init__(self, nombre, contacto):\n",
    "        super().__init__(nombre, contacto)\n",
    "        self.historial_pedido = []\n",
    "\n",
    "    def RealizarPedido(self, pedido):\n",
    "        if not isinstance(pedido, pedido):  \n",
    "            print(\"Error: Debes pasar un objeto de la clase Pedido.\")\n",
    "            return\n",
    "        self.historial_pedido.append(pedido) \n",
    "        print(f\"\\nPedido realizado para {self.nom}:\")\n",
    "        pedido.mostrar_pedido()  \n",
    "\n",
    "    def ConsultarHistorial(self):\n",
    "        if not self.historial_pedido:  \n",
    "            print(f\"{self.nom} no tiene pedidos en su historial.\")\n",
    "        else:\n",
    "            print(f\"\\nHistorial de pedidos de {self.nom}:\")\n",
    "            for i, pedido in enumerate(self.historial_pedido, 1):\n",
    "                print(f\"Pedido {i}:\")\n",
    "                pedido.mostrar_pedido()"
   ]
  },
  {
   "cell_type": "code",
   "execution_count": null,
   "metadata": {},
   "outputs": [
    {
     "name": "stdout",
     "output_type": "stream",
     "text": [
      "Persona registrada: Ana - ana@email.com\n",
      "Persona registrada: Carlos - carlos@email.com\n",
      "Personas Registradas:\n",
      "Nombre: Ana - Contacto: ana@email.com\n",
      "Nombre: Carlos - Contacto: carlos@email.com\n"
     ]
    }
   ],
   "source": [
    "cli1 = Persona(\"Ana\", \"ana@email.com\")\n",
    "cli2 = Persona(\"Carlos\", \"carlos@email.com\")\n",
    "\n",
    "cli1.Registrar()\n",
    "cli2.Registrar()\n",
    "\n",
    "Persona.personas_registradas()\n"
   ]
  },
  {
   "cell_type": "code",
   "execution_count": 5,
   "metadata": {},
   "outputs": [],
   "source": [
    "class Empleado(Persona):\n",
    "    def __init__(self, nombre, contacto, rol):\n",
    "        super().__init__(nombre, contacto)\n",
    "        self.rol = rol\n",
    "\n",
    "    def tarea(self):\n",
    "        roles = {\n",
    "            \"Mesero\": \"Toma órdenes de clientes.\",\n",
    "            \"Barista\": \"Prepara bebidas y hace trucos.\",\n",
    "            \"Gerente\": \"Dirige la cafetería.\"\n",
    "        }\n",
    "        print(f\"{self.nom} ({self.rol}) {roles.get(self.rol, 'realiza sus tareas en la cafetería.')}\")"
   ]
  },
  {
   "cell_type": "code",
   "execution_count": 6,
   "metadata": {},
   "outputs": [
    {
     "name": "stdout",
     "output_type": "stream",
     "text": [
      "Persona registrada: Luis - luis@email.com\n",
      "Persona registrada: María - maria@email.com\n",
      "Persona registrada: Jaimy - jaimy@email.com\n",
      "Personas Registradas:\n",
      "Nombre: Ana - Contacto: ana@email.com\n",
      "Nombre: Carlos - Contacto: carlos@email.com\n",
      "Nombre: Luis - Contacto: luis@email.com\n",
      "Nombre: María - Contacto: maria@email.com\n",
      "Nombre: Jaimy - Contacto: jaimy@email.com\n"
     ]
    }
   ],
   "source": [
    "empl1 = Empleado(\"Luis\", \"luis@email.com\", \"Mesero\")\n",
    "empl2 = Empleado(\"María\", \"maria@email.com\", \"Barista\")\n",
    "empl3 = Empleado(\"Jaimy\", \"jaimy@email.com\", \"Gerente\")\n",
    "\n",
    "empl1.Registrar()\n",
    "empl2.Registrar()\n",
    "empl3.Registrar()\n",
    "\n",
    "Persona.personas_registradas()\n"
   ]
  },
  {
   "cell_type": "code",
   "execution_count": 7,
   "metadata": {},
   "outputs": [
    {
     "name": "stdout",
     "output_type": "stream",
     "text": [
      "Luis (Mesero) Toma órdenes de clientes.\n",
      "María (Barista) Prepara bebidas y hace trucos.\n",
      "Jaimy (Gerente) Dirige la cafetería.\n"
     ]
    }
   ],
   "source": [
    "empl1.tarea()\n",
    "empl2.tarea()\n",
    "empl3.tarea()\n"
   ]
  },
  {
   "cell_type": "code",
   "execution_count": 8,
   "metadata": {},
   "outputs": [],
   "source": [
    "class ProductoBase:\n",
    "    def __init__(self, nombre, precio):\n",
    "        self.nom = nombre\n",
    "        self.prc = precio"
   ]
  },
  {
   "cell_type": "code",
   "execution_count": 9,
   "metadata": {},
   "outputs": [],
   "source": [
    "class Bebida(ProductoBase):\n",
    "    tipos_permitidos = [\"fría\",\"caliente\"]\n",
    "\n",
    "    def __init__(self, nombre, tamaño, tipo, personalizar, precio):\n",
    "        if tipo not in self.tipos_permitidos:\n",
    "            raise ValueError(\"Este tipo de bebida no es válido. Debe ser 'caliente' o 'fría'\")\n",
    "        super().__init__(nombre, precio)\n",
    "        self.tam = tamaño\n",
    "        self.tip = tipo\n",
    "        self.person = personalizar\n",
    "\n",
    "    def menu_bebida(self):\n",
    "        print(f\"{self.nom} ({self.tip}, {self.tam}) - ${self.prc}\")"
   ]
  },
  {
   "cell_type": "code",
   "execution_count": 10,
   "metadata": {},
   "outputs": [],
   "source": [
    "beb1 = Bebida(\"Café Latte\", \"Grande\", \"caliente\", \"Leche de almendra\", 50)\n",
    "beb2 = Bebida(\"Té Helado\", \"Mediano\", \"fría\", \"Sin azúcar\", 40)\n"
   ]
  },
  {
   "cell_type": "code",
   "execution_count": 11,
   "metadata": {},
   "outputs": [],
   "source": [
    "class Postre(ProductoBase):\n",
    "    def __init__(self, nombre, tipo_postre, precio):\n",
    "        super().__init__(nombre, precio)\n",
    "        self.tipo_postre = tipo_postre\n",
    "\n",
    "    def menu_postre(self):\n",
    "        print(f\"{self.nom} ({self.tipo_postre}) - ${self.prc}\")"
   ]
  },
  {
   "cell_type": "code",
   "execution_count": null,
   "metadata": {},
   "outputs": [],
   "source": [
    "post1 = Postre(\"Brownie\", \"con gluten\", 30)\n",
    "post2 = Postre(\"Galleta Vegana\", \"sin gluten\", 25)"
   ]
  },
  {
   "cell_type": "code",
   "execution_count": 12,
   "metadata": {},
   "outputs": [],
   "source": [
    "class Inventario:\n",
    "    def __init__(self):\n",
    "        self.items = {}\n",
    "\n",
    "    def agregar_item(self, nombre, cantidad):\n",
    "        if nombre in self.items:\n",
    "            self.items[nombre] += cantidad\n",
    "        else:\n",
    "            self.items[nombre] = cantidad\n",
    "        print(f\"Agregado {cantidad} de {nombre} al inventario.\")\n",
    "\n",
    "    def verificar_stock(self, nombre, cantidad):\n",
    "        return self.items.get(nombre, 0) >= cantidad\n",
    "\n",
    "    def actualizar_stock(self, nombre, cantidad):\n",
    "        if self.verificar_stock(nombre, cantidad):\n",
    "            self.items[nombre] -= cantidad\n",
    "            print(f\"Se ha usado {cantidad} de {nombre}.\")\n",
    "        else:\n",
    "            print(f\"No hay suficiente stock de {nombre}.\")"
   ]
  },
  {
   "cell_type": "code",
   "execution_count": 13,
   "metadata": {},
   "outputs": [
    {
     "name": "stdout",
     "output_type": "stream",
     "text": [
      "Agregado 50 de cafe al inventario.\n",
      "Agregado 5 de Té al inventario.\n",
      "Agregado 3 de Leche de almendra al inventario.\n",
      "Agregado 8 de Azúcar al inventario.\n"
     ]
    }
   ],
   "source": [
    "inven = Inventario()\n",
    "inven.agregar_item(\"cafe\", 50)\n",
    "inven.agregar_item(\"Té\", 5)\n",
    "inven.agregar_item(\"Leche de almendra\", 3)\n",
    "inven.agregar_item(\"Azúcar\", 8)"
   ]
  },
  {
   "cell_type": "code",
   "execution_count": null,
   "metadata": {},
   "outputs": [],
   "source": [
    "class Pedido:\n",
    "    def __init__(self, cliente):\n",
    "        self.productos = []\n",
    "        self.cliente = cliente\n",
    "        self.estado = \"Pendiente\"\n",
    "        self.total = 0\n",
    "\n",
    "    def agregar_producto(self, producto):\n",
    "        self.productos.append(producto)\n",
    "        self.total += producto.precio\n",
    "        print(f\"{producto.nombre} agregado al pedido.\")\n",
    "\n",
    "    def mostrar_pedido(self):\n",
    "        print(f\"Pedido de {self.cliente.nombre} - Estado: {self.estado}\")\n",
    "        for producto in self.productos:\n",
    "            print(f\"{producto.nombre} - ${producto.precio}\")\n",
    "        print(f\"Total: ${self.total}\")\n",
    "\n",
    "    def cambiar_estado(self, nuevo_estado):\n",
    "        self.estado = nuevo_estado\n",
    "        print(f\"El pedido ahora está en estado: {self.estado}\")\n"
   ]
  },
  {
   "cell_type": "code",
   "execution_count": null,
   "metadata": {},
   "outputs": [],
   "source": [
    "class Promocion:\n",
    "    def __init__(self, nombre, descripcion, descuento):\n",
    "        self.nombre = nombre\n",
    "        self.descripcion = descripcion\n",
    "        self.desc = descuento\n",
    "\n",
    "    def aplicar_descuento(self, pedido):\n",
    "        pedido.total -= self.descuento\n",
    "        print(f\"Descuento aplicado: ${self.descuento}. Nuevo total: ${pedido.total}\")"
   ]
  },
  {
   "cell_type": "code",
   "execution_count": 106,
   "metadata": {},
   "outputs": [],
   "source": [
    "promo = Promocion(\"Descuento de Cliente Frecuente\", \"Descuento por fidelidad\", 10)"
   ]
  },
  {
   "cell_type": "code",
   "execution_count": 15,
   "metadata": {},
   "outputs": [
    {
     "ename": "NameError",
     "evalue": "name 'Pedido' is not defined",
     "output_type": "error",
     "traceback": [
      "\u001b[1;31m---------------------------------------------------------------------------\u001b[0m",
      "\u001b[1;31mNameError\u001b[0m                                 Traceback (most recent call last)",
      "Cell \u001b[1;32mIn[15], line 3\u001b[0m\n\u001b[0;32m      1\u001b[0m cliente1 \u001b[38;5;241m=\u001b[39m Cliente(\u001b[38;5;124m\"\u001b[39m\u001b[38;5;124mAna\u001b[39m\u001b[38;5;124m\"\u001b[39m, \u001b[38;5;124m\"\u001b[39m\u001b[38;5;124mana@email.com\u001b[39m\u001b[38;5;124m\"\u001b[39m)  \u001b[38;5;66;03m# Create an instance of Cliente\u001b[39;00m\n\u001b[1;32m----> 3\u001b[0m pedido1 \u001b[38;5;241m=\u001b[39m \u001b[43mPedido\u001b[49m(cliente1)\n\u001b[0;32m      4\u001b[0m pedido1\u001b[38;5;241m.\u001b[39magregar_producto(beb1)\n\u001b[0;32m      5\u001b[0m pedido1\u001b[38;5;241m.\u001b[39magregar_producto(post1)\n",
      "\u001b[1;31mNameError\u001b[0m: name 'Pedido' is not defined"
     ]
    }
   ],
   "source": [
    "cliente1 = Cliente(\"Ana\", \"ana@email.com\")  # Create an instance of Cliente\n",
    "\n",
    "pedido1 = Pedido(cliente1)\n",
    "pedido1.agregar_producto(beb1)\n",
    "pedido1.agregar_producto(post1)\n",
    "pedido1.mostrar_pedido()\n",
    "\n",
    "\n",
    "if inven.verificar_stock(\"Café\", 1):\n",
    "    inven.actualizar_stock(\"Café\", 1)\n",
    "\n",
    "\n",
    "pedido1.cambiar_estado(\"En preparación\")\n",
    "pedido1.cambiar_estado(\"Entregado\")\n",
    "\n",
    "\n",
    "promo.aplicar_descuento(pedido1)\n",
    "cliente1.RealizarPedido(pedido=pedido1)\n",
    "cliente1.ConsultarHistorial()"
   ]
  }
 ],
 "metadata": {
  "kernelspec": {
   "display_name": "Python 3",
   "language": "python",
   "name": "python3"
  },
  "language_info": {
   "codemirror_mode": {
    "name": "ipython",
    "version": 3
   },
   "file_extension": ".py",
   "mimetype": "text/x-python",
   "name": "python",
   "nbconvert_exporter": "python",
   "pygments_lexer": "ipython3",
   "version": "3.13.1"
  }
 },
 "nbformat": 4,
 "nbformat_minor": 2
}
